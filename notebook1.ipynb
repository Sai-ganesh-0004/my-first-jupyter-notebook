{
 "cells": [
  {
   "cell_type": "markdown",
   "id": "1b5d9ace-5945-43fb-986e-659bfb6c8b48",
   "metadata": {},
   "source": [
    "# My notebook"
   ]
  },
  {
   "cell_type": "markdown",
   "id": "55b0385f-8e93-423d-8ac3-034d96536390",
   "metadata": {},
   "source": [
    "## Introduction"
   ]
  },
  {
   "cell_type": "markdown",
   "id": "25bbb49d-34cc-4e8d-8026-c9afaf6ba824",
   "metadata": {},
   "source": [
    "this is my first using jupyter notebook"
   ]
  },
  {
   "cell_type": "markdown",
   "id": "8e1616c9-5b19-4f6c-a453-8b82e7656871",
   "metadata": {},
   "source": [
    "### some of data science languages are:"
   ]
  },
  {
   "cell_type": "markdown",
   "id": "437f652a-63fb-4712-8fa4-4e00c2606b17",
   "metadata": {},
   "source": [
    "1. python\n",
    "2. julia\n",
    "3. javascript\n",
    "4. sql\n",
    "5. R"
   ]
  },
  {
   "cell_type": "markdown",
   "id": "99fd45ac-4d8e-4dc3-a423-ac5a9f4b2dbc",
   "metadata": {},
   "source": [
    "### list of data science libraries"
   ]
  },
  {
   "cell_type": "markdown",
   "id": "3fc6786e-6633-459b-908f-d64570f9d16e",
   "metadata": {},
   "source": [
    "1. pandas\n",
    "2. numpy\n",
    "3. pytorch\n",
    "4. matplotlib\n",
    "5. scipy\n",
    "6. scikit learn\n",
    "7. plotly"
   ]
  },
  {
   "cell_type": "markdown",
   "id": "08639161-9d61-4e93-9e5f-59b61dc7bf25",
   "metadata": {},
   "source": [
    "## Table of data science tools"
   ]
  },
  {
   "cell_type": "markdown",
   "id": "ff3de3fb-a474-49ed-a8e4-105cab4de09a",
   "metadata": {},
   "source": [
    "|sno|tool|desc|\n",
    "|---|----|---|\n",
    "|1|excel|basic cell format|\n",
    "|2|jupyter|open source|\n",
    "|3|spark|mainly for ML|\n"
   ]
  },
  {
   "cell_type": "markdown",
   "id": "62673860-16a1-4a3a-8d65-b97e527e5153",
   "metadata": {},
   "source": [
    "### some examples of arithmetic expressions are:"
   ]
  },
  {
   "cell_type": "markdown",
   "id": "091ff62a-0e43-430b-9a98-a015f9193575",
   "metadata": {},
   "source": [
    "* $ f(x)=y^2 $"
   ]
  },
  {
   "cell_type": "markdown",
   "id": "0daebd8d-da56-4ba0-ac9d-d723f67e756d",
   "metadata": {},
   "source": [
    "* $ x^3+2x^2+x-3=0 $"
   ]
  },
  {
   "cell_type": "markdown",
   "id": "afe3cb08-82d0-4669-b46f-e4342fafb7d6",
   "metadata": {},
   "source": [
    "* $ E=mc^2 $"
   ]
  },
  {
   "cell_type": "markdown",
   "id": "353d1215-a723-46a8-b0d9-e768303cb872",
   "metadata": {},
   "source": [
    "## code to multiply and add numers\n"
   ]
  },
  {
   "cell_type": "code",
   "execution_count": 3,
   "id": "ef7894de-de40-4457-bfe2-205ad39a3720",
   "metadata": {},
   "outputs": [
    {
     "name": "stdin",
     "output_type": "stream",
     "text": [
      " 3\n",
      " 4\n"
     ]
    },
    {
     "name": "stdout",
     "output_type": "stream",
     "text": [
      "the product is 12\n",
      "the sum is 7\n"
     ]
    }
   ],
   "source": [
    "a=int(input())\n",
    "b=int(input())\n",
    "print(\"the product is\",a*b)\n",
    "print(\"the sum is\",a+b)"
   ]
  },
  {
   "cell_type": "markdown",
   "id": "1855ce38-6e20-4308-b256-c54419f5b483",
   "metadata": {},
   "source": [
    "### code to convert minutes to hours"
   ]
  },
  {
   "cell_type": "code",
   "execution_count": 5,
   "id": "5c0765ed-8d86-4773-a214-3366eca1ac9c",
   "metadata": {},
   "outputs": [
    {
     "name": "stdin",
     "output_type": "stream",
     "text": [
      "give the number of minutes 115\n"
     ]
    },
    {
     "name": "stdout",
     "output_type": "stream",
     "text": [
      "1.9166666666666667 hours\n"
     ]
    }
   ],
   "source": [
    "a=float(input(\"give the number of minutes\"))\n",
    "print(a/60,\"hours\")"
   ]
  },
  {
   "cell_type": "markdown",
   "id": "4883ca77-7b71-4577-a88c-f1d3596ef0d9",
   "metadata": {},
   "source": [
    "#### objectives"
   ]
  },
  {
   "cell_type": "markdown",
   "id": "f64275a7-c939-4069-bd74-78e0d5ca7583",
   "metadata": {},
   "source": [
    "* first take two numbers \n",
    "* then divide by 60 to get the number of hours\n",
    "* then print the numbers"
   ]
  },
  {
   "cell_type": "markdown",
   "id": "fa0c9887-8b16-4268-b020-7833eac669e6",
   "metadata": {},
   "source": [
    "                                                                                                author: Sai Ganesh"
   ]
  },
  {
   "cell_type": "code",
   "execution_count": null,
   "id": "9b2a3e0e-443c-4a7a-8c97-8a75eb89f961",
   "metadata": {},
   "outputs": [],
   "source": []
  }
 ],
 "metadata": {
  "kernelspec": {
   "display_name": "Python 3 (ipykernel)",
   "language": "python",
   "name": "python3"
  },
  "language_info": {
   "codemirror_mode": {
    "name": "ipython",
    "version": 3
   },
   "file_extension": ".py",
   "mimetype": "text/x-python",
   "name": "python",
   "nbconvert_exporter": "python",
   "pygments_lexer": "ipython3",
   "version": "3.12.0"
  }
 },
 "nbformat": 4,
 "nbformat_minor": 5
}
